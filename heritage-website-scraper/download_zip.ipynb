{
 "cells": [
  {
   "cell_type": "code",
   "execution_count": 1,
   "metadata": {},
   "outputs": [],
   "source": [
    "import requests\n",
    "from bs4 import BeautifulSoup"
   ]
  },
  {
   "cell_type": "code",
   "execution_count": 44,
   "metadata": {},
   "outputs": [],
   "source": [
    "def get_page_contents(url):\n",
    "    headers = {\n",
    "        'User-Agent': 'Mozilla/5.0 (Windows NT 10.0; Win64; x64) AppleWebKit/537.36 (KHTML, like Gecko) Chrome/107.0.0.0 Safari/537.36'\n",
    "    }\n",
    "    response = requests.get(url, headers=headers, stream=True)\n",
    "    if response.status_code == 200:\n",
    "        # print(f'Successfully retrieved the page_content \\nurl: {url}\\n')\n",
    "        return response.content\n",
    "    print(f'No content was retrieved \\nurl: {url}\\n')\n",
    "    print(response.status_code)\n",
    "    return None"
   ]
  },
  {
   "cell_type": "code",
   "execution_count": 36,
   "metadata": {},
   "outputs": [
    {
     "name": "stdout",
     "output_type": "stream",
     "text": [
      "Retrieved URLs:\n",
      "['https://www.heritagetype.com/pages/purple-flowers-02-free-illustrations', 'https://www.heritagetype.com/pages/pigeon-bird-park-free-illustrations', 'https://www.heritagetype.com/pages/peaches-fruit-03-free-illustrations', 'https://www.heritagetype.com/pages/free-beach-illustrations', 'https://www.heritagetype.com/pages/nature-by-merian-07-free-illustrations', 'https://www.heritagetype.com/pages/free-book-2-illustrations', 'https://www.heritagetype.com/pages/forest-animals-05-free-illustrations', 'https://www.heritagetype.com/pages/vases-and-flower-pots-02-free-illustrations', 'https://www.heritagetype.com/pages/olives-and-figs-03-free-illustrations', 'https://www.heritagetype.com/pages/flip-a-coin-02-free-illustrations', 'https://www.heritagetype.com/pages/white-flowers-free-illustrations', 'https://www.heritagetype.com/pages/under-the-sea-04-free-illustrations', 'https://www.heritagetype.com/pages/citrus-fruits-04-free-illustrations', 'https://www.heritagetype.com/pages/wedding-bells-free-illustrations', 'https://www.heritagetype.com/pages/hasegawa-flowers-04-free-illustrations', 'https://www.heritagetype.com/pages/inspiring-insects-06-free-illustrations', 'https://www.heritagetype.com/pages/plum-power-02-free-illustrations', 'https://www.heritagetype.com/pages/farm-life-07-free-illustrations', 'https://www.heritagetype.com/pages/free-yellow-flowers-02-illustrations', 'https://www.heritagetype.com/pages/fasion-shoes-05-free-illustrations', 'https://www.heritagetype.com/pages/coniferous-forest-02-free-illustrations', 'https://www.heritagetype.com/pages/spring-vibes-free-illustrations', 'https://www.heritagetype.com/pages/animal-people-03-free-illustrations', 'https://www.heritagetype.com/pages/vases-and-flower-pots-free-illustrations', 'https://www.heritagetype.com/pages/fashion-by-barbier-05-free-illustrations', 'https://www.heritagetype.com/pages/ball-sports-free-illustrations', 'https://www.heritagetype.com/pages/acorn-and-oak-2-free-illustrations', 'https://www.heritagetype.com/pages/under-the-sea-03-free-illustrations', 'https://www.heritagetype.com/pages/lovely-orange-flowers-free-illustrations', 'https://www.heritagetype.com/pages/inspiring-insects-05-free-illustrations', 'https://www.heritagetype.com/pages/peaches-fruit-02-free-illustrations', 'https://www.heritagetype.com/pages/horse-heads-03-free-illustrations', 'https://www.heritagetype.com/pages/ancient-egypt-03-free-illustrations', 'https://www.heritagetype.com/pages/flip-a-coin-free-illustrations', 'https://www.heritagetype.com/pages/purple-flowers-free-illustrations', 'https://www.heritagetype.com/pages/nautical-nation-04-free-illustrations', 'https://www.heritagetype.com/pages/sweet-apricots-free-illustrations', 'https://www.heritagetype.com/pages/animal-murals-03-free-illustrations', 'https://www.heritagetype.com/pages/edward-penfield-04-free-illustrations', 'https://www.heritagetype.com/pages/fashion-shoes-04-free-illustrations', 'https://www.heritagetype.com/pages/red-flowers-02-free-illustrations', 'https://www.heritagetype.com/pages/free-farm-life-06-illustrations', 'https://www.heritagetype.com/pages/free-christmas-02-illustrations', 'https://www.heritagetype.com/pages/free-christmas-illustrations', 'https://www.heritagetype.com/pages/nature-by-merian-06-free-illustrations', 'https://www.heritagetype.com/pages/dogs-free-illustrations', 'https://www.heritagetype.com/pages/citrus-fruits-03-free-illustrations', 'https://www.heritagetype.com/pages/angels-and-fairies-04-free-illustrations', 'https://www.heritagetype.com/pages/berry-boost-02-free-illustrations', 'https://www.heritagetype.com/pages/inspiring-insects-04-free-illustrations', 'https://www.heritagetype.com/pages/nature-symphony-19-free-illustrations', 'https://www.heritagetype.com/pages/bird-sketches-free-illustrations', 'https://www.heritagetype.com/pages/fashion-by-barbier-04-free-illustrations', 'https://www.heritagetype.com/pages/sea-animals-under-the-sea-02-free-illustrations', 'https://www.heritagetype.com/pages/yellow-flowers-illustrations', 'https://www.heritagetype.com/pages/free-key-02-illustrations', 'https://www.heritagetype.com/pages/forest-animals-04-free-illustrations', 'https://www.heritagetype.com/pages/horse-heads-02-free-illustrations', 'https://www.heritagetype.com/pages/plum-power-free-illustrations', 'https://www.heritagetype.com/pages/fashion-shoes-03-free-illustrations', 'https://www.heritagetype.com/pages/peaches-fruit-free-illustrations', 'https://www.heritagetype.com/pages/halloween-trick-or-treat-free-illustrations', 'https://www.heritagetype.com/pages/nature-by-merian-05-free-illustrations', 'https://www.heritagetype.com/pages/hands-holding-stuff-04-free-illustrations', 'https://www.heritagetype.com/pages/hasegawa-flowers-03-free-illustrations', 'https://www.heritagetype.com/pages/bicycle-race-05-free-illustrations', 'https://www.heritagetype.com/pages/citrus-club-02-free-illustrations', 'https://www.heritagetype.com/pages/nautical-nation-03-free-illustrations', 'https://www.heritagetype.com/pages/ancient-egypt-02-free-illustrations', 'https://www.heritagetype.com/pages/fashion-glasses-02-free-illustrations', 'https://www.heritagetype.com/pages/olives-and-figs-02-free-illustrations', 'https://www.heritagetype.com/pages/free-farm-life-05-illustrations', 'https://www.heritagetype.com/pages/coniferous-forest-free-illustration', 'https://www.heritagetype.com/pages/bicycle-race-04-free-illustration', 'https://www.heritagetype.com/pages/fashion-by-barbier-03-free-illustration', 'https://www.heritagetype.com/pages/sea-animals-free-illustration', 'https://www.heritagetype.com/pages/edward-penfield-03-free-illustrations', 'https://www.heritagetype.com/pages/animal-murals-02-free-illustrations', 'https://www.heritagetype.com/pages/acorn-and-oak-free-illustrations', 'https://www.heritagetype.com/pages/inspiring-insects-03-free-illustrations', 'https://www.heritagetype.com/pages/nature-by-merian-04-free-illustrations', 'https://www.heritagetype.com/pages/triple-trouble-free-illustrations', 'https://www.heritagetype.com/pages/free-berry-boost-illustrations', 'https://www.heritagetype.com/pages/free-angels-and-fairies-03-illustrations', 'https://www.heritagetype.com/pages/red-flowers-free-illustration', 'https://www.heritagetype.com/pages/beautiful-plant-ornaments-free-illustrations', 'https://www.heritagetype.com/pages/animals-as-people-02-free-illustrations', 'https://www.heritagetype.com/pages/birds-flying-high-free-illustrations', 'https://www.heritagetype.com/pages/forest-animals-03-free-illustrations', 'https://www.heritagetype.com/pages/fashion-shoes-02-free-illustrations', 'https://www.heritagetype.com/pages/olives-and-figs-free-illustrations', 'https://www.heritagetype.com/pages/horse-heads-free-illustrations', 'https://www.heritagetype.com/pages/colorful-nature-by-merian-03-free-illustrations', 'https://www.heritagetype.com/pages/double-trouble-free-illustrations', 'https://www.heritagetype.com/pages/hasegawa-flowers-02-free-illustrations', 'https://www.heritagetype.com/pages/free-farm-life-04-illustrations', 'https://www.heritagetype.com/pages/free-citrus-fruit-illustrations', 'https://www.heritagetype.com/pages/animal-murals-free-illustrations', 'https://www.heritagetype.com/pages/fashion-by-barbier-02-free-illustrations', 'https://www.heritagetype.com/pages/free-key-illustrations', 'https://www.heritagetype.com/pages/ancient-egypt-free-illustrations', 'https://www.heritagetype.com/pages/nautical-nation-02-free-illustrations', 'https://www.heritagetype.com/pages/free-illustrations-colorful-bird-paintings-02', 'https://www.heritagetype.com/pages/fashion-shoes-free-illustrations', 'https://www.heritagetype.com/pages/edward-penfield-02-free-illustrations', 'https://www.heritagetype.com/pages/hands-holding-stuff-03-free-illustrations', 'https://www.heritagetype.com/pages/free-forest-animals-02-illustrations', 'https://www.heritagetype.com/pages/bicycle-race-03-free-illustrations', 'https://www.heritagetype.com/pages/free-colorful-fish-05-illustrations', 'https://www.heritagetype.com/pages/free-angels-and-fairies-02-illustrations', 'https://www.heritagetype.com/pages/nature-by-merian-02-free-illustrations', 'https://www.heritagetype.com/pages/free-fashion-glasses-illustrations', 'https://www.heritagetype.com/pages/free-egyptian-columns-illustrations', 'https://www.heritagetype.com/pages/farm-life-03-free-illustrations', 'https://www.heritagetype.com/pages/animals-as-people-free-illustrations', 'https://www.heritagetype.com/pages/whale-watching-02-free-illustrations', 'https://www.heritagetype.com/pages/nature-symphony-18-free-illustrations', 'https://www.heritagetype.com/pages/nautical-nation-free-illustrations', 'https://www.heritagetype.com/pages/fashion-by-barbier-free-illustrations', 'https://www.heritagetype.com/pages/green-garden-free-illustrations', 'https://www.heritagetype.com/pages/beautiful-nature-by-merian-illustrations', 'https://www.heritagetype.com/pages/hands-holding-stuffs-02-free-illustrations', 'https://www.heritagetype.com/pages/wild-forest-animals-free-illustrations', 'https://www.heritagetype.com/pages/vintage-bicycle-02-free-illustrations', 'https://www.heritagetype.com/pages/edward-penfield-free-illustrations', 'https://www.heritagetype.com/pages/healthcare_03_free_illustrations', 'https://www.heritagetype.com/pages/hasegawa-flowers-free-illustrations', 'https://www.heritagetype.com/pages/angels-and-fairies-free-illustrations', 'https://www.heritagetype.com/pages/shakespeare-garden-free-illustrations', 'https://www.heritagetype.com/pages/loving-moms-free-illustrations', 'https://www.heritagetype.com/pages/free-illustrations-shades-of-color-06', 'https://www.heritagetype.com/pages/free_cat_illustrations', 'https://www.heritagetype.com/pages/mothers_day_03_free_illustrations', 'https://www.heritagetype.com/pages/mothers_day_02_free_illustrations', 'https://www.heritagetype.com/pages/mothers_day_01_free_illustrations', 'https://www.heritagetype.com/pages/free-illustrations-farm-life-02', 'https://www.heritagetype.com/pages/flamingos-and-friends-02-free-illustrations', 'https://www.heritagetype.com/pages/combat-sports-02-free-illustrations', 'https://www.heritagetype.com/pages/nature-symphony-17-free-illustrations', 'https://www.heritagetype.com/pages/free-illustrations-hands-holding-stuff', 'https://www.heritagetype.com/pages/free-illustrations-colorful-bird-paintings', 'https://www.heritagetype.com/pages/free-sweet-soul-music-04-illustrations', 'https://www.heritagetype.com/pages/free-illustrations-follow-the-fish-04', 'https://www.heritagetype.com/pages/free-green-garden-02-illustrations', 'https://www.heritagetype.com/pages/free-illustrations-shades-of-color-05', 'https://www.heritagetype.com/pages/free-illustrations-farm-life-01', 'https://www.heritagetype.com/pages/nature-symphony-16-free-illustrations', 'https://www.heritagetype.com/pages/free-bunny-rabbit-illustrations', 'https://www.heritagetype.com/pages/free-an-apple-a-day-04-illustrations', 'https://www.heritagetype.com/pages/free-mushroom-illustrations-03', 'https://www.heritagetype.com/pages/free-easter-parade-illustrations-03', 'https://www.heritagetype.com/pages/free-easter-parade-illustrations-02', 'https://www.heritagetype.com/pages/free-easter-parade-illustrations-01', 'https://www.heritagetype.com/pages/free-green-garden-illustrations', 'https://www.heritagetype.com/pages/free-illustrations-follow-the-fish-03', 'https://www.heritagetype.com/pages/combat-sports-free-illustrations', 'https://www.heritagetype.com/pages/free-illustrations-alphonsemucha-03', 'https://www.heritagetype.com/pages/free-illustrations-healthcare-02', 'https://www.heritagetype.com/pages/nature-symphony-15-free-illustrations', 'https://www.heritagetype.com/pages/free-whale-watching-illustrations', 'https://www.heritagetype.com/pages/free-colorful-inspiring-insects-illustrations-02', 'https://www.heritagetype.com/pages/free-snowflakes-illustrations-03', 'https://www.heritagetype.com/pages/free-illustrations-shades-of-color-04', 'https://www.heritagetype.com/pages/free-illustrations-snowflakes-02', 'https://www.heritagetype.com/pages/free_bird_illustrations_nature_symphony_14', 'https://www.heritagetype.com/pages/free-beard-buddies-02-illustrations', 'https://www.heritagetype.com/pages/free-illustrations-nature-symphony-13', 'https://www.heritagetype.com/pages/winter-wonderland-02-free-illustrations', 'https://www.heritagetype.com/pages/free-valentines-day-03-illustrations', 'https://www.heritagetype.com/pages/free-valentines-day-02-illustrations', 'https://www.heritagetype.com/pages/free-valentines-day-01-illustrations', 'https://www.heritagetype.com/pages/free-vineyard-and-grapes-02-illustrations', 'https://www.heritagetype.com/pages/beard-buddies', 'https://www.heritagetype.com/pages/free-illustrations-shades-of-colors-03', 'https://www.heritagetype.com/pages/free-healthcare-illustrations', 'https://www.heritagetype.com/pages/alphonse-mucha-02-free-illustrations', 'https://www.heritagetype.com/pages/free-animal-sketches-02', 'https://www.heritagetype.com/pages/an-apple-a-day-03', 'https://www.heritagetype.com/pages/sweet-soul-music-03', 'https://www.heritagetype.com/pages/winter-wonderland', 'https://www.heritagetype.com/pages/free-celebration-illustrations', 'https://www.heritagetype.com/pages/free-apple-illustrations', 'https://www.heritagetype.com/pages/free-snowflake-illustrations', 'https://www.heritagetype.com/pages/christmas-06', 'https://www.heritagetype.com/pages/christmas-05', 'https://www.heritagetype.com/pages/christmas-04', 'https://www.heritagetype.com/pages/free-mushroom-illustrations-02', 'https://www.heritagetype.com/pages/alphonse-mucha-free-illustrations', 'https://www.heritagetype.com/pages/free-vintage-diamond-illustrations', 'https://www.heritagetype.com/pages/parrot-party-03', 'https://www.heritagetype.com/pages/childhood-memories-04', 'https://www.heritagetype.com/pages/shades-of-color-02', 'https://www.heritagetype.com/pages/sweet-soul-music-02', 'https://www.heritagetype.com/pages/free-vintage-grape-illustrations', 'https://www.heritagetype.com/pages/free-vintage-animal-sketches', 'https://www.heritagetype.com/pages/free-vintage-apple-illustrations', 'https://www.heritagetype.com/pages/free-north-point-illustrations', 'https://www.heritagetype.com/pages/free-insect-illustrations', 'https://www.heritagetype.com/pages/free-christmas-illustrations-03', 'https://www.heritagetype.com/pages/free-christmas-illustrations-02', 'https://www.heritagetype.com/pages/free-christmas-illustrations-01', 'https://www.heritagetype.com/pages/shades-of-color-01', 'https://www.heritagetype.com/pages/free-vintage-sports-illustrations', 'https://www.heritagetype.com/pages/free-vintage-rose-illustrations', 'https://www.heritagetype.com/pages/free-horse-illustrations', 'https://www.heritagetype.com/pages/follow-the-fish-02', 'https://www.heritagetype.com/pages/free-vintage-skeleton-illustrations', 'https://www.heritagetype.com/pages/free-vintage-parrot-illustrations', 'https://www.heritagetype.com/pages/free-vintage-skull-illustrations', 'https://www.heritagetype.com/pages/nature-symphony-12', 'https://www.heritagetype.com/pages/free-squid-illustrations', 'https://www.heritagetype.com/pages/iris-flower-02', 'https://www.heritagetype.com/pages/childhood-memories-03', 'https://www.heritagetype.com/pages/free-halloween-illustrations-03', 'https://www.heritagetype.com/pages/free-halloween-illustrations-02', 'https://www.heritagetype.com/pages/free-halloween-illustrations-01', 'https://www.heritagetype.com/pages/free-vintage-cherry-illustrations', 'https://www.heritagetype.com/pages/free-sun-moon-star-illustrations', 'https://www.heritagetype.com/pages/nature-symphony-11', 'https://www.heritagetype.com/pages/free-snake-illustrations', 'https://www.heritagetype.com/pages/free-tropical-fruit-illustrations', 'https://www.heritagetype.com/pages/free-dinosaur-illustrations-02', 'https://www.heritagetype.com/pages/free-fish-illustrations', 'https://www.heritagetype.com/pages/free-skull-illustrations', 'https://www.heritagetype.com/pages/free-owl-illustrations', 'https://www.heritagetype.com/pages/childhood-memories-02', 'https://www.heritagetype.com/pages/nature-symphony-10', 'https://www.heritagetype.com/pages/free-book-illustrations', 'https://www.heritagetype.com/pages/free-iris-flower-illustrations', 'https://www.heritagetype.com/pages/free-crab-illustrations', 'https://www.heritagetype.com/pages/free-camping-illustrations', 'https://www.heritagetype.com/pages/free-cherry-illustrations', 'https://www.heritagetype.com/pages/sweet-soul-music', 'https://www.heritagetype.com/pages/free-parrot-illustrations', 'https://www.heritagetype.com/pages/free-dinosaur-illustrations', 'https://www.heritagetype.com/pages/nature-symphony-09', 'https://www.heritagetype.com/pages/free-caterpillar-illustrations', 'https://www.heritagetype.com/pages/free-vintage-anchor-illustrations', 'https://www.heritagetype.com/pages/free-vintage-butterfly-illustration', 'https://www.heritagetype.com/pages/free-vintage-fruit-illustrations', 'https://www.heritagetype.com/pages/free-flamingo-illustrations', 'https://www.heritagetype.com/pages/free-leaf-illustrations', 'https://www.heritagetype.com/pages/nature-symphony-08', 'https://www.heritagetype.com/pages/free-spiritual-and-mythical-illustrations', 'https://www.heritagetype.com/pages/free-butterfly-illustrations', 'https://www.heritagetype.com/pages/free-watch-and-clock-illustrations', 'https://www.heritagetype.com/pages/free-mushroom-illustrations', 'https://www.heritagetype.com/pages/nature-symphony-07', 'https://www.heritagetype.com/pages/children-vintage-illustrations', 'https://www.heritagetype.com/pages/vintage-rose-illustrations', 'https://www.heritagetype.com/pages/vintage-rustic-florals', 'https://www.heritagetype.com/pages/sandy-seashells', 'https://www.heritagetype.com/pages/circus-sensation', 'https://www.heritagetype.com/pages/fantastic-birds-02', 'https://www.heritagetype.com/pages/24-nature-symphony-06', 'https://www.heritagetype.com/pages/23-baseball-buddies', 'https://www.heritagetype.com/pages/22-fresh-fruits', 'https://www.heritagetype.com/pages/21-classic-car-rally', 'https://www.heritagetype.com/pages/20-blooming-beauty', 'https://www.heritagetype.com/pages/19-octopus-ocean', 'https://www.heritagetype.com/pages/18-deadly-skulls', 'https://www.heritagetype.com/pages/17-nature-symphony-05', 'https://www.heritagetype.com/pages/16-farm-animals', 'https://www.heritagetype.com/pages/15-nature-symphony-04', 'https://www.heritagetype.com/pages/14-buzzing-beetles', 'https://www.heritagetype.com/pages/13-bicycle-race', 'https://www.heritagetype.com/pages/12-nature-symphony-03', 'https://www.heritagetype.com/pages/11-winding-snakes', 'https://www.heritagetype.com/pages/10-flower-bouquet', 'https://www.heritagetype.com/pages/09-truly-royal', 'https://www.heritagetype.com/pages/08-jungle-animals', 'https://www.heritagetype.com/pages/07-animal-skeletons', 'https://www.heritagetype.com/pages/06-nature-symphony-02', 'https://www.heritagetype.com/pages/05-skeleton-samba', 'https://www.heritagetype.com/pages/04-fantastic-birds', 'https://www.heritagetype.com/pages/03-people-silhouettes', 'https://www.heritagetype.com/pages/02-nature-symphony', 'https://www.heritagetype.com/pages/01-horseback-riding', 'https://www.heritagetype.com/pages/free-vintage-illustrations-craftsman-tools']\n"
     ]
    }
   ],
   "source": [
    "# Retrieve URLs from the text file\n",
    "with open(\"urls.txt\", \"r\") as file:\n",
    "    retrieved_urls = [line.strip() for line in file]\n",
    "\n",
    "print(\"Retrieved URLs:\")\n",
    "print(retrieved_urls)"
   ]
  },
  {
   "cell_type": "code",
   "execution_count": 4,
   "metadata": {},
   "outputs": [
    {
     "name": "stdout",
     "output_type": "stream",
     "text": [
      "Successfully retrieved the page_content \n",
      "url: https://www.heritagetype.com/pages/purple-flowers-02-free-illustrations\n",
      "\n"
     ]
    }
   ],
   "source": [
    "content = get_page_contents(retrieved_urls[0])\n",
    "soup = BeautifulSoup(content, 'html.parser')"
   ]
  },
  {
   "cell_type": "code",
   "execution_count": 9,
   "metadata": {},
   "outputs": [],
   "source": [
    "download_page_link = soup.find(class_='shg-btn').get('href')"
   ]
  },
  {
   "cell_type": "code",
   "execution_count": 41,
   "metadata": {},
   "outputs": [],
   "source": [
    "from zipfile import ZipFile\n",
    "from io import BytesIO\n",
    "import os\n",
    "from tqdm import tqdm"
   ]
  },
  {
   "cell_type": "code",
   "execution_count": 33,
   "metadata": {},
   "outputs": [],
   "source": [
    "custom_folder = 'heritagetype_illustrations'\n",
    "os.makedirs(custom_folder, exist_ok=True)"
   ]
  },
  {
   "cell_type": "code",
   "execution_count": 43,
   "metadata": {},
   "outputs": [],
   "source": [
    "def get_download_page(url: list[str]):\n",
    "    headers = {\n",
    "        \"User-Agent\": \"Mozilla/5.0 (Windows NT 10.0; Win64; x64) AppleWebKit/537.36 (KHTML, like Gecko) Chrome/131.0.0.0 Safari/537.36\",\n",
    "        \"Accept\": \"text/html,application/xhtml+xml,application/xml;q=0.9,image/avif,image/webp,image/apng,*/*;q=0.8,application/signed-exchange;v=b3;q=0.7\",\n",
    "        \"Accept-Encoding\": \"gzip, deflate, br\"\n",
    "    }\n",
    "\n",
    "    response = requests.get(url, headers=headers, stream=True)\n",
    "    if response.status_code == 200:\n",
    "        with ZipFile(BytesIO(response.content)) as zip_file:\n",
    "            zip_file.extractall(custom_folder)\n",
    "\n",
    "    # print(f\"{url}\\nDownload and extraction completed successfully.\\n\\n\")\n"
   ]
  },
  {
   "cell_type": "code",
   "execution_count": 35,
   "metadata": {},
   "outputs": [
    {
     "name": "stdout",
     "output_type": "stream",
     "text": [
      "https://delivery.shopifyapps.com/-/97aec9c08876e6d7/9c2ca6c5b7c2c92c/download\n",
      "Download and extraction completed successfully.\n"
     ]
    }
   ],
   "source": [
    "get_download_page(f'{download_page_link}/download')"
   ]
  },
  {
   "cell_type": "code",
   "execution_count": 45,
   "metadata": {},
   "outputs": [
    {
     "name": "stderr",
     "output_type": "stream",
     "text": [
      "100%|██████████| 279/279 [1:13:58<00:00, 15.91s/it]\n"
     ]
    }
   ],
   "source": [
    "for link in tqdm(retrieved_urls):\n",
    "    content = get_page_contents(link)\n",
    "    soup = BeautifulSoup(content, 'html.parser')\n",
    "    download_page_link = soup.find(class_='shg-btn').get('href')\n",
    "\n",
    "    get_download_page(f'{download_page_link}/download')"
   ]
  }
 ],
 "metadata": {
  "kernelspec": {
   "display_name": "venv-webscraping",
   "language": "python",
   "name": "python3"
  },
  "language_info": {
   "codemirror_mode": {
    "name": "ipython",
    "version": 3
   },
   "file_extension": ".py",
   "mimetype": "text/x-python",
   "name": "python",
   "nbconvert_exporter": "python",
   "pygments_lexer": "ipython3",
   "version": "3.12.4"
  }
 },
 "nbformat": 4,
 "nbformat_minor": 2
}
